{
 "cells": [
  {
   "cell_type": "code",
   "execution_count": null,
   "id": "b94ef41a-e39b-4d95-9284-e189862f89ad",
   "metadata": {},
   "outputs": [],
   "source": [
    "import pandas as pd\n",
    "import seaborn as sns\n",
    "import numpy as np\n",
    "import matplotlib.pyplot as plt\n",
    "%matplotlib inline\n",
    "import plotly.express as px\n",
    "import plotly.graph_objects as go\n",
    "\n",
    "plt.rcParams['figure.figsize'] =(12,6)\n",
    "plt.style.use('fivethirtyeight')\n",
    "\n",
    "import warnings\n",
    "warnings.filterwarnings(\"ignore\")"
   ]
  },
  {
   "cell_type": "code",
   "execution_count": null,
   "id": "e610dc5c-a597-4221-a301-99bc2387c82f",
   "metadata": {},
   "outputs": [],
   "source": [
    "data=pd.read_csv(\"C:/Users/itssa/OneDrive/Documents/PROJECT 4.csv\")\n",
    "data.style.set_properties(**{'background-color':'white','color':'red','border-color':'#8b8c8c'})"
   ]
  },
  {
   "cell_type": "code",
   "execution_count": null,
   "id": "932a12ce-739e-4ae0-b6ef-be2b07edc45a",
   "metadata": {},
   "outputs": [],
   "source": [
    "data.shape"
   ]
  },
  {
   "cell_type": "code",
   "execution_count": null,
   "id": "df9a1220-cf3e-4fc0-a2be-ad14d5eae2a9",
   "metadata": {},
   "outputs": [],
   "source": [
    "data.isnull().sum()"
   ]
  },
  {
   "cell_type": "code",
   "execution_count": null,
   "id": "76264a07-6e69-4640-9583-35efa6c7a922",
   "metadata": {},
   "outputs": [],
   "source": [
    "\n",
    "data['DISTRICT'] = data['DISTRICT'].replace({\n",
    "    'CTC BALASORE': 'CTC',  # Assuming you want to standardize as 'CTC'\n",
    "    'CTC ': 'CTC',  # Removing any trailing spaces\n",
    "    # Add other replacements if needed\n",
    "})\n",
    "\n",
    "# Check again if the duplicates are resolved\n",
    "print(data['DISTRICT'].unique())\n"
   ]
  },
  {
   "cell_type": "code",
   "execution_count": null,
   "id": "52c688fb-3902-49a7-adc4-ec44c0f018d3",
   "metadata": {},
   "outputs": [],
   "source": [
    "print(data['CROP'].unique())"
   ]
  },
  {
   "cell_type": "code",
   "execution_count": null,
   "id": "10004e34-4d6d-47d7-8967-6d9e4134d116",
   "metadata": {},
   "outputs": [],
   "source": [
    "print('The Duplicated values in the data is',data.duplicated().sum())"
   ]
  },
  {
   "cell_type": "code",
   "execution_count": null,
   "id": "7b82ee06-7a9a-4060-be12-e0ded629c5c5",
   "metadata": {},
   "outputs": [],
   "source": [
    "import plotly.express as px\n",
    "\n",
    "#COLOR PALETEE FOR THE HISTOGRAM\n",
    "\n",
    "colors=['#1f77b4', '#ff7f0e', '#2ca02c', '#d62728', '#9467bd']\n",
    "\n",
    "# EDA -Histogram\n",
    "column_names =['CROP', 'DISTRICT', 'YEAR', ' PRODCUTION(1k Ton)', 'YIELD (Kg per ha)']\n",
    "\n",
    "for i,column in enumerate(column_names):\n",
    "    fig=px.histogram(data, x=column, nbins=5,marginal='box',labels={column:column})\n",
    "    fig.update_layout(title=f'Histogram of {column}',xaxis_title=column,yaxis_title='Count',\n",
    "                                      plot_bgcolor='rgba(0,0,0,0)',paper_bgcolor='rgba(0,0,0,0)',\n",
    "                                            font=dict(size=12))\n",
    "    fig.update_traces(marker_color=colors[i % len(colors)])\n",
    "\n",
    "fig.show()"
   ]
  },
  {
   "cell_type": "code",
   "execution_count": null,
   "id": "45e7bf5b-63b7-448a-b67c-59aaea3c48b9",
   "metadata": {},
   "outputs": [],
   "source": [
    "import plotly.express as px\n",
    "\n",
    "#COLOR PALETEE FOR THE HISTOGRAM\n",
    "\n",
    "colors=['#1f77b4', '#ff7f0e', '#2ca02c', '#d62728', '#9467bd']\n",
    "\n",
    "# EDA -Histogram\n",
    "column_names =[' PRODCUTION(1k Ton)']\n",
    "\n",
    "for i,column in enumerate(column_names):\n",
    "    fig=px.histogram(data, x=column, nbins=10,marginal='box',labels={column:column})\n",
    "    fig.update_layout(title=f'Histogram of {column}',xaxis_title=column,yaxis_title='Count',\n",
    "                                      plot_bgcolor='rgba(0,0,0,0)',paper_bgcolor='rgba(0,0,0,0)',\n",
    "                                            font=dict(size=12))\n",
    "    fig.update_traces(marker_color=colors[i % len(colors)])\n",
    "\n",
    "fig.show()"
   ]
  },
  {
   "cell_type": "code",
   "execution_count": null,
   "id": "5d54bbed-cf5b-4b57-93ed-d08cbdb07887",
   "metadata": {},
   "outputs": [],
   "source": [
    "sns.set_theme(style=\"whitegrid\")\n",
    "\n",
    "# Plotting 'YIELD (Kg per ha)'\n",
    "plt.figure(figsize=(8, 6))\n",
    "sns.displot(data=data, x='YIELD (Kg per ha)', hue=\"CROP\", kind=\"kde\", height=4, multiple=\"fill\", clip=(0, None), palette=\"ch:rot=-.75,hue=1,light=.75\")\n",
    "plt.title('Kernel Density Estimation of YIELD (Kg per ha) by Crop')\n",
    "plt.xlabel('YIELD (Kg per ha)')\n",
    "plt.ylabel('Density')\n",
    "plt.show()"
   ]
  },
  {
   "cell_type": "code",
   "execution_count": null,
   "id": "82e015c6-663e-48ef-a3f0-d866154afe12",
   "metadata": {},
   "outputs": [],
   "source": [
    "# Plotting ' PRODCUTION(1k Ton)'\n",
    "plt.figure(figsize=(8, 6))\n",
    "sns.displot(data=data, x=' PRODCUTION(1k Ton)', hue=\"CROP\", kind=\"kde\", height=4, multiple=\"fill\", clip=(0, None), palette=\"ch:rot=-.75,hue=1,light=.75\")\n",
    "plt.title('Kernel Density Estimation of  PRODCUTION(1k Ton) by Crop')\n",
    "plt.xlabel(' PRODCUTION(1k Ton)')\n",
    "plt.ylabel('Density')\n",
    "plt.show()"
   ]
  },
  {
   "cell_type": "code",
   "execution_count": null,
   "id": "05649a83-f243-4ddf-ad1c-910adb3d2972",
   "metadata": {},
   "outputs": [],
   "source": [
    "\n",
    "DISTRICT_in_data = data['DISTRICT'].unique()\n",
    "print('\\n The DISTRICT in the data:', DISTRICT_in_data)\n",
    "\n",
    "dominant_district = data.groupby('DISTRICT')['YIELD (Kg per ha)'].max().reset_index()\n",
    "max_yield_district = dominant_district.loc[dominant_district['YIELD (Kg per ha)'].idxmax()]\n",
    "print('The Dominant District in terms of Maximum Yield across all crops:\\n', max_yield_district)\n",
    "\n",
    "\n",
    "less_dominant_district = data.groupby('DISTRICT')['YIELD (Kg per ha)'].min().reset_index()\n",
    "min_yield_district = dominant_district.loc[dominant_district['YIELD (Kg per ha)'].idxmin()]\n",
    "print('The less Dominant District in terms of Maximum Yield across all crops:\\n', min_yield_district)\n",
    "\n",
    "\n",
    "max_and_min_yield = (data['YIELD (Kg per ha)'].min(), data['YIELD (Kg per ha)'].max())\n",
    "print('\\nThe Minimum yield range:', max_and_min_yield)\n",
    "\n",
    "\n",
    "crop_production = data.groupby('CROP')[' PRODCUTION(1k Ton)'].sum()\n",
    "most_demand_crop =crop_production.idxmax()\n",
    "print('\\nThe most demanded crop in the data:', most_demand_crop)\n",
    "\n",
    "least_demand_crop_production = crop_production.idxmin()\n",
    "print('\\nThe least_demand_crop demanded crop in the data:',least_demand_crop_production)"
   ]
  },
  {
   "cell_type": "code",
   "execution_count": null,
   "id": "8c01051a-788f-48dc-98ab-16b16f381ff6",
   "metadata": {},
   "outputs": [],
   "source": [
    "## Assuming 'data' is your DataFrame containing the relevant columns\n",
    "\n",
    "# Sum production by crop across all years and districts\n",
    "crop_total_production = data.groupby('CROP')[' PRODCUTION(1k Ton)'].sum().reset_index()\n",
    "\n",
    "# Sort the crops by total production and select the top N (e.g., top 5)\n",
    "top_n = 5\n",
    "top_crops = crop_total_production.nlargest(top_n, ' PRODCUTION(1k Ton)')\n",
    "\n",
    "# Add an 'Other' category for all other crops\n",
    "other_crops_production = crop_total_production.nsmallest(len(crop_total_production) - top_n, ' PRODCUTION(1k Ton)')[' PRODCUTION(1k Ton)'].sum()\n",
    "other_row = pd.DataFrame({'CROP': ['Other'], ' PRODCUTION(1k Ton)': [other_crops_production]})\n",
    "\n",
    "# Combine the top crops with the 'Other' category using pd.concat()\n",
    "top_crops = pd.concat([top_crops, other_row], ignore_index=True)\n",
    "\n",
    "# Create the pie chart with improvements\n",
    "plt.figure(figsize=(10, 10))  # Increase figure size\n",
    "\n",
    "# Explode the slices slightly to reduce overlap\n",
    "explode = [0.1] * top_n + [0.2]  # Explode all top crops slightly and 'Other' more\n",
    "\n",
    "# Create the pie chart\n",
    "plt.pie(top_crops[' PRODCUTION(1k Ton)'], labels=top_crops['CROP'], autopct='%1.1f%%', \n",
    "        startangle=30, explode=[0.1]*len(top_crops))\n",
    "\n",
    "# Add a legend to reduce label clutter\n",
    "plt.legend(top_crops['CROP'], title=\"Crops\")\n",
    "\n",
    "# Add a title\n",
    "plt.title('Top Crops by Production')\n",
    "\n",
    "# Show the plot\n",
    "plt.show()"
   ]
  },
  {
   "cell_type": "code",
   "execution_count": null,
   "id": "6de61762-b4d4-4553-8f94-47f52ba59c47",
   "metadata": {},
   "outputs": [],
   "source": [
    "#FIND THE AVERAGE YIELD OF THE TOP 10 YIELD IN THE DATA \n",
    "avg_yield = data.groupby('DISTRICT')['YIELD (Kg per ha)'].mean()\n",
    "\n",
    "avg_yield_df=avg_yield.to_frame()\n",
    "\n",
    "avg_yield_df.style.background_gradient(cmap='tab20b')\n"
   ]
  },
  {
   "cell_type": "code",
   "execution_count": null,
   "id": "1ce39c3e-b1ab-48a6-a769-2b9198555792",
   "metadata": {},
   "outputs": [],
   "source": [
    "avg_production = data.groupby('DISTRICT')[' PRODCUTION(1k Ton)'].mean()\n",
    "\n",
    "avg_production_df=avg_production.to_frame()\n",
    "\n",
    "avg_production_df.style.background_gradient(cmap='tab20b')\n"
   ]
  },
  {
   "cell_type": "code",
   "execution_count": null,
   "id": "e2d5c302-ffa8-45a7-9c13-9929c76f0966",
   "metadata": {},
   "outputs": [],
   "source": [
    "# Group the data by CROP and calculate the average YIELD\n",
    "avg_yield_per_crop = data.groupby('CROP')['YIELD (Kg per ha)'].mean()\n",
    "\n",
    "# Find the crop with the highest average yield\n",
    "crop_with_highest_avg_yield = avg_yield_per_crop.idxmax()\n",
    "highest_avg_yield = avg_yield_per_crop.max()\n",
    "\n",
    "print(f\"The crop with the highest average yield is {crop_with_highest_avg_yield} with an average yield of {highest_avg_yield:.2f} Kg per ha.\")\n"
   ]
  },
  {
   "cell_type": "code",
   "execution_count": null,
   "id": "0151c097-9250-43e7-b58d-c036b5d8827f",
   "metadata": {},
   "outputs": [],
   "source": [
    "# Find the row with the maximum yield\n",
    "max_yield_row = data.loc[data['YIELD (Kg per ha)'].idxmax()]\n",
    "\n",
    "# Extract the crop name and the maximum yield value\n",
    "max_yield_crop = max_yield_row['CROP']\n",
    "max_yield_value = max_yield_row['YIELD (Kg per ha)']\n",
    "\n",
    "print(f\"The crop with the maximum yield is {max_yield_crop} with a yield of {max_yield_value:.2f} Kg per ha.\")\n"
   ]
  },
  {
   "cell_type": "code",
   "execution_count": null,
   "id": "efbf9cfd-1c9b-48e7-a389-d131f7687362",
   "metadata": {},
   "outputs": [],
   "source": [
    "import matplotlib.pyplot as plt\n",
    "\n",
    "#what are the unique districts in the data\n",
    "districts_in_data =data['DISTRICT'].unique()\n",
    "\n",
    "#Calculate the counts of each unique districts\n",
    "district_counts =data['DISTRICT'].value_counts()\n",
    "\n",
    "#Plot a pie chart for the state counts\n",
    "plt.figure(figsize=(8,6))\n",
    "plt.pie(district_counts, labels=districts_in_data, autopct='%2.1f%%', startangle=40)\n",
    "plt.title('Distribution of Districts in the data')\n",
    "plt.axis('equal')\n",
    "plt.show"
   ]
  },
  {
   "cell_type": "code",
   "execution_count": null,
   "id": "72607b7b-b4d0-4eb6-a4f7-27570b3bd243",
   "metadata": {},
   "outputs": [],
   "source": [
    "\n",
    "\n",
    "# Group the data and prepare for the plot\n",
    "crop_year_production = data.groupby(['YEAR', 'CROP'])[' PRODCUTION(1k Ton)'].sum().unstack()\n",
    "\n",
    "# Convert the dataframe into a long format for plotly\n",
    "crop_year_production_reset = crop_year_production.reset_index().melt(id_vars='YEAR', value_name='Total Production', var_name='CROP')\n",
    "\n",
    "# Plotting the bar graph using Plotly\n",
    "fig = px.bar(crop_year_production_reset, \n",
    "             x='YEAR', \n",
    "             y='Total Production', \n",
    "             color='CROP', \n",
    "             title='Crop Production Over 5 Years',\n",
    "             labels={'YEAR': 'Year', 'Total Production': 'Total Production (1k Ton)'},\n",
    "             barmode='group',\n",
    "             height=400,\n",
    "             width=700,\n",
    "            log_y=True)\n",
    "\n",
    "# Display the plot\n",
    "fig.show()\n"
   ]
  },
  {
   "cell_type": "code",
   "execution_count": null,
   "id": "c1e8a2cf-20b4-4025-83c6-aa3eb7dc8ab1",
   "metadata": {},
   "outputs": [],
   "source": [
    "rice_data=data[data['CROP']=='RICE']\n",
    "district_production=rice_data.groupby('DISTRICT')[' PRODCUTION(1k Ton)'].sum()\n",
    "top_5_districts=district_production.sort_values(ascending=False).head(5)\n",
    "print(\"Top 5 districts producing Rice: \")\n",
    "print(top_5_districts)\n"
   ]
  },
  {
   "cell_type": "code",
   "execution_count": null,
   "id": "c28bc42e-b8c9-4ecd-b881-fb9e1359c806",
   "metadata": {},
   "outputs": [],
   "source": [
    "maize_data=data[data['CROP']=='MAIZE']\n",
    "district_production=maize_data.groupby('DISTRICT')[' PRODCUTION(1k Ton)'].sum()\n",
    "top_5_districts=district_production.sort_values(ascending=False).head(5)\n",
    "print(\"Top 5 districts producing Maize: \")\n",
    "print(top_5_districts)"
   ]
  },
  {
   "cell_type": "code",
   "execution_count": null,
   "id": "af1ecf4f-9dfa-440d-9e2d-7904c70556fb",
   "metadata": {},
   "outputs": [],
   "source": [
    "wheat_data=data[data['CROP']=='WHEAT']\n",
    "district_production=wheat_data.groupby('DISTRICT')[' PRODCUTION(1k Ton)'].sum()\n",
    "top_5_districts=district_production.sort_values(ascending=False).head(5)\n",
    "print(\"Top 5 districts producing Wheat: \")\n",
    "print(top_5_districts)"
   ]
  },
  {
   "cell_type": "code",
   "execution_count": null,
   "id": "2a2c9b91-ddcb-4fc6-b59c-22d44235f23b",
   "metadata": {},
   "outputs": [],
   "source": [
    "pearl_millet_data=data[data['CROP']=='PEARL MILLET ']\n",
    "district_production=pearl_millet_data.groupby('DISTRICT')[' PRODCUTION(1k Ton)'].sum()\n",
    "top_5_districts=district_production.sort_values(ascending=False).head(5)\n",
    "print(\"Top 5 districts producing PEARL MILLET : \")\n",
    "print(top_5_districts)"
   ]
  },
  {
   "cell_type": "code",
   "execution_count": null,
   "id": "9fe43a3a-5766-4dd6-a230-28d1b08c7a4d",
   "metadata": {},
   "outputs": [],
   "source": [
    "data.columns"
   ]
  },
  {
   "cell_type": "code",
   "execution_count": null,
   "id": "801d3699-2891-4d69-a4d6-e3dd53bb2477",
   "metadata": {},
   "outputs": [],
   "source": [
    "# Assuming your data is in a DataFrame called df\n",
    "\n",
    "# Distribution of production by district\n",
    "plt.figure(figsize=(10, 6))\n",
    "sns.boxplot(x='DISTRICT', y=' PRODCUTION(1k Ton)', data=data)\n",
    "plt.xticks(rotation=90)\n",
    "plt.title('Production Distribution by District')\n",
    "plt.show()\n",
    "\n",
    "# Distribution of yield by crop\n",
    "plt.figure(figsize=(10, 6))\n",
    "sns.boxplot(x='DISTRICT', y='YIELD (Kg per ha)', data=data)\n",
    "plt.xticks(rotation=90)\n",
    "plt.title('Yield Distribution by Crop')\n",
    "plt.show()\n"
   ]
  },
  {
   "cell_type": "code",
   "execution_count": null,
   "id": "7d8fae6f-8772-4ef7-8401-1c0f8ffc3090",
   "metadata": {},
   "outputs": [],
   "source": [
    "data.describe()"
   ]
  },
  {
   "cell_type": "code",
   "execution_count": null,
   "id": "9bc82ade-b303-44bf-a1e7-988ef1668a9a",
   "metadata": {},
   "outputs": [],
   "source": [
    "data.info()"
   ]
  },
  {
   "cell_type": "code",
   "execution_count": null,
   "id": "1bc9fe8a-2f7b-470c-84e2-b0c0ca6065de",
   "metadata": {},
   "outputs": [],
   "source": [
    "yearwise_count=data['YEAR'].value_counts().sort_index()"
   ]
  },
  {
   "cell_type": "code",
   "execution_count": null,
   "id": "c6dbc70a-64f3-4775-a7a2-2f7296e54f95",
   "metadata": {},
   "outputs": [],
   "source": [
    "sum(data['YEAR']>2014)"
   ]
  },
  {
   "cell_type": "code",
   "execution_count": null,
   "id": "d803ee92-4255-4cb3-98e7-48f382e891bf",
   "metadata": {},
   "outputs": [],
   "source": [
    "sum(data['YEAR']<2011)"
   ]
  },
  {
   "cell_type": "code",
   "execution_count": null,
   "id": "ccb590c3-e159-48d9-be9d-6ade1a3f2bd6",
   "metadata": {},
   "outputs": [],
   "source": [
    "production_count=data[' PRODCUTION(1k Ton)'].value_counts().sort_index()\n",
    "production_count"
   ]
  },
  {
   "cell_type": "code",
   "execution_count": null,
   "id": "d6722b77-a064-4d39-b044-c213a404d937",
   "metadata": {},
   "outputs": [],
   "source": [
    "sns.distplot(data[' PRODCUTION(1k Ton)'])"
   ]
  },
  {
   "cell_type": "code",
   "execution_count": null,
   "id": "360db8dc-6e6d-4120-9696-5688f8f8d161",
   "metadata": {},
   "outputs": [],
   "source": [
    "data[' PRODCUTION(1k Ton)'].describe()"
   ]
  },
  {
   "cell_type": "code",
   "execution_count": null,
   "id": "1572a3a1-0c0a-42dd-bdcb-36aa6f0caad3",
   "metadata": {},
   "outputs": [],
   "source": [
    "sns.boxplot(y=data[' PRODCUTION(1k Ton)'])"
   ]
  },
  {
   "cell_type": "code",
   "execution_count": null,
   "id": "de4f7654-2cf9-4860-b27a-73c4f7ba2530",
   "metadata": {},
   "outputs": [],
   "source": [
    "sum(data[' PRODCUTION(1k Ton)']>800)"
   ]
  },
  {
   "cell_type": "code",
   "execution_count": null,
   "id": "11452990-3f45-42bf-a9a3-cbcc99280b0e",
   "metadata": {},
   "outputs": [],
   "source": [
    "sum(data[' PRODCUTION(1k Ton)']<100)"
   ]
  },
  {
   "cell_type": "code",
   "execution_count": null,
   "id": "0d89b950-c871-4d2f-9c90-0f51d9698195",
   "metadata": {},
   "outputs": [],
   "source": [
    "data['YIELD (Kg per ha)'].describe()"
   ]
  },
  {
   "cell_type": "code",
   "execution_count": null,
   "id": "87303cdc-3994-4add-850f-c8febb3e3581",
   "metadata": {},
   "outputs": [],
   "source": [
    "yield_count=data['YIELD (Kg per ha)'].value_counts().sort_index()\n",
    "yield_count"
   ]
  },
  {
   "cell_type": "code",
   "execution_count": null,
   "id": "9b5de069-059c-4289-bd02-70b8d92eb1f4",
   "metadata": {},
   "outputs": [],
   "source": [
    "sns.distplot(data['YIELD (Kg per ha)'])"
   ]
  },
  {
   "cell_type": "code",
   "execution_count": null,
   "id": "2baee01b-b8a0-4070-a3c3-dcf1102527e6",
   "metadata": {},
   "outputs": [],
   "source": [
    "sns.boxplot(x=data['YIELD (Kg per ha)'])"
   ]
  },
  {
   "cell_type": "code",
   "execution_count": null,
   "id": "75dd499a-aa99-470d-b420-4e7f2a932c40",
   "metadata": {},
   "outputs": [],
   "source": [
    "sns.regplot(x='YIELD (Kg per ha)',y='CROP',scatter=True,fit_reg=False, data=data)"
   ]
  },
  {
   "cell_type": "code",
   "execution_count": null,
   "id": "209f994e-c5dc-460e-80da-9c5a192b61f6",
   "metadata": {},
   "outputs": [],
   "source": [
    "sum(data['YIELD (Kg per ha)']>1500)"
   ]
  },
  {
   "cell_type": "code",
   "execution_count": null,
   "id": "60af07a1-d7c6-4331-8393-8d8dd0322a36",
   "metadata": {},
   "outputs": [],
   "source": [
    "sum(data['YIELD (Kg per ha)']<700)"
   ]
  },
  {
   "cell_type": "code",
   "execution_count": null,
   "id": "d75b21ba-a43a-4a9d-85f8-ab642ce3b71c",
   "metadata": {},
   "outputs": [],
   "source": [
    "# Line plot for trend analysis of production over the years\n",
    "plt.figure(figsize=(10, 6))\n",
    "sns.lineplot(x='YEAR', y=' PRODCUTION(1k Ton)', hue='CROP', data=data, marker='o')\n",
    "plt.title('Production Trend over Years by Crop')\n",
    "plt.show()\n",
    "\n",
    "# Line plot for trend analysis of yield over the years\n",
    "plt.figure(figsize=(10, 6))\n",
    "sns.lineplot(x='YEAR', y='YIELD (Kg per ha)', hue='CROP', data=data, marker='o')\n",
    "plt.title('Yield Trend over Years by Crop')\n",
    "plt.show()\n"
   ]
  },
  {
   "cell_type": "code",
   "execution_count": null,
   "id": "f2914c2d-7942-4579-ba3a-bd6d69e4ae32",
   "metadata": {},
   "outputs": [],
   "source": [
    "from sklearn.model_selection import train_test_split\n",
    "from sklearn.ensemble import RandomForestRegressor\n",
    "from sklearn.metrics import mean_squared_error\n",
    "\n",
    "# Prepare data for machine learning\n",
    "X = data[['CROP', 'DISTRICT', ' PRODCUTION(1k Ton)' ]]  # Features\n",
    "y = data['YIELD (Kg per ha)']  # Target\n",
    "\n",
    "# Convert categorical variables to numeric using one-hot encoding\n",
    "X = pd.get_dummies(X, columns=['CROP', 'DISTRICT'], drop_first=True)\n",
    "\n",
    "# Split the dataset into training and testing sets\n",
    "X_train, X_test, y_train, y_test = train_test_split(X, y, test_size=0.2, random_state=42)\n",
    "\n",
    "# Train a Random Forest model\n",
    "model = RandomForestRegressor(n_estimators=100, random_state=42)\n",
    "model.fit(X_train, y_train)\n",
    "\n",
    "# Predict yield on test set\n",
    "y_pred = model.predict(X_test)\n",
    "\n",
    "# Calculate and print error\n",
    "mse = mean_squared_error(y_test, y_pred)\n",
    "print(f'Mean Squared Error: {mse}')\n",
    "\n",
    "# Feature importance plot\n",
    "importances = model.feature_importances_\n",
    "features = X.columns\n",
    "plt.figure(figsize=(10, 6))\n",
    "plt.barh(features, importances)\n",
    "plt.title('Feature Importance in Yield Prediction')\n",
    "plt.show()\n"
   ]
  },
  {
   "cell_type": "code",
   "execution_count": null,
   "id": "9bfe92c7-173d-41c8-98e9-db9e8a2b2e6d",
   "metadata": {},
   "outputs": [],
   "source": [
    "# Filter data for a specific crop, e.g., 'Rice'\n",
    "rice_data = data[data['CROP'] == 'RICE']\n",
    "\n",
    "# Group by district and sum the production\n",
    "district_production = rice_data.groupby('DISTRICT')[' PRODCUTION(1k Ton)'].sum().reset_index()\n",
    "\n",
    "# Sort by production to identify top and bottom performing districts\n",
    "top_districts = district_production.sort_values(by=' PRODCUTION(1k Ton)', ascending=False).head(5)\n",
    "bottom_districts = district_production.sort_values(by=' PRODCUTION(1k Ton)', ascending=True).head(5)\n",
    "\n",
    "print(\"Top 5 Districts by Production:\")\n",
    "print(top_districts)\n",
    "\n",
    "print(\"\\nBottom 5 Districts by Production:\")\n",
    "print(bottom_districts)\n",
    "\n",
    "# Bar plot for top 10 districts\n",
    "plt.figure(figsize=(10, 6))\n",
    "plt.bar(top_districts['DISTRICT'], top_districts[' PRODCUTION(1k Ton)'], color='green')\n",
    "plt.title('Top 5 Districts by Rice Production')\n",
    "plt.xticks(rotation=90)\n",
    "plt.show()\n"
   ]
  },
  {
   "cell_type": "code",
   "execution_count": null,
   "id": "069b82f6-7700-4b00-8e6c-0373f67b9f9e",
   "metadata": {},
   "outputs": [],
   "source": [
    "# Set boundaries for truncation (reduce range)\n",
    "lower_bound = data[' PRODCUTION(1k Ton)'].quantile(0.05)  # 5th percentile\n",
    "upper_bound = data[' PRODCUTION(1k Ton)'].quantile(0.95)  # 95th percentile\n",
    "\n",
    "# Apply truncation\n",
    "data[' PRODCUTION(1k Ton)'] = data[' PRODCUTION(1k Ton)'].clip(lower=lower_bound, upper=upper_bound)\n",
    "\n",
    "# Similarly, you can truncate the yield column\n",
    "lower_yield_bound = data['YIELD (Kg per ha)'].quantile(0.05)\n",
    "upper_yield_bound = data['YIELD (Kg per ha)'].quantile(0.95)\n",
    "\n",
    "data['YIELD (Kg per ha)'] = data['YIELD (Kg per ha)'].clip(lower=lower_yield_bound, upper=upper_yield_bound)\n",
    "\n",
    "# Check the data after truncation\n",
    "print(data[[' PRODCUTION(1k Ton)', 'YIELD (Kg per ha)']].describe())\n"
   ]
  },
  {
   "cell_type": "code",
   "execution_count": null,
   "id": "8185aaad-251d-42da-933d-6923aa1533f4",
   "metadata": {},
   "outputs": [],
   "source": [
    "# Calculat].quantile(0.25)\n",
    "Q1 = data[' PRODCUTION(1k Ton)'].quantile(0.25)\n",
    "Q3 = data[' PRODCUTION(1k Ton)'].quantile(0.75)\n",
    "IQR = Q3 - Q1\n",
    "\n",
    "# Define outlier boundaries\n",
    "lower_bound = Q1 - 1.5 * IQR\n",
    "upper_bound = Q3 + 1.5 * IQR\n",
    "\n",
    "# Identify outliers\n",
    "outliers = data[(data[' PRODCUTION(1k Ton)'] < lower_bound) | (data[' PRODCUTION(1k Ton)'] > upper_bound)]\n",
    "print(f\"Number of Outliers in Production: {len(outliers)}\")\n",
    "\n",
    "# Optional: Remove outliers from the data\n",
    "data_no_outliers = data[(data[' PRODCUTION(1k Ton)'] >= lower_bound) & (data[' PRODCUTION(1k Ton)'] <= upper_bound)]\n"
   ]
  },
  {
   "cell_type": "code",
   "execution_count": null,
   "id": "005f76f3-eda3-4f15-930b-6c9846fb1db2",
   "metadata": {},
   "outputs": [],
   "source": [
    "# Create a boxplot for Production by District after removing outliers\n",
    "plt.figure(figsize=(12, 6))\n",
    "sns.boxplot(x='DISTRICT', y=' PRODCUTION(1k Ton)', data=data_no_outliers)\n",
    "\n",
    "# Rotate the district labels for better readability\n",
    "plt.xticks(rotation=45, ha='right')\n",
    "plt.title('Boxplot of Production by District (After Removing Outliers)')\n",
    "plt.tight_layout()\n",
    "plt.show()\n"
   ]
  },
  {
   "cell_type": "code",
   "execution_count": null,
   "id": "f96027a4-11e9-4f33-be0d-35977bb857ad",
   "metadata": {},
   "outputs": [],
   "source": [
    "# Log transformation to reduce the effect of outliers\n",
    "data['log_production'] = np.log1p(data[' PRODCUTION(1k Ton)'])  # log1p handles zero values\n",
    "\n",
    "# Boxplot after log transformation\n",
    "plt.figure(figsize=(12, 6))\n",
    "sns.boxplot(x='DISTRICT', y='log_production', data=data)\n",
    "\n",
    "plt.xticks(rotation=45, ha='right')\n",
    "plt.title('Boxplot of Log-transformed Production by District')\n",
    "plt.tight_layout()\n",
    "plt.show()\n"
   ]
  },
  {
   "cell_type": "code",
   "execution_count": null,
   "id": "ad9d466c-40d2-4a10-89ee-3d83cea973f3",
   "metadata": {},
   "outputs": [],
   "source": [
    "data.columns"
   ]
  },
  {
   "cell_type": "code",
   "execution_count": null,
   "id": "f8e00845-37fe-4346-88fa-2db07812e0d7",
   "metadata": {},
   "outputs": [],
   "source": [
    "# Import necessary librarie\n",
    "from sklearn.model_selection import train_test_split\n",
    "from sklearn.preprocessing import LabelEncoder, StandardScaler\n",
    "from sklearn.ensemble import RandomForestRegressor\n",
    "from sklearn.metrics import mean_absolute_error, mean_squared_error, r2_score\n",
    "\n",
    "# Encode categorical variables (crop and district)\n",
    "label_encoder_crop = LabelEncoder()\n",
    "data['CROP'] = label_encoder_crop.fit_transform(data['CROP'])\n",
    "\n",
    "label_encoder_district = LabelEncoder()\n",
    "data['DISTRICT'] = label_encoder_district.fit_transform(data['DISTRICT'])\n",
    "\n",
    "# Define features (X) and target (y)\n",
    "X = data[['YEAR', 'CROP', 'DISTRICT']]\n",
    "y_production = data[' PRODCUTION(1k Ton)']\n",
    "y_yield = data['YIELD (Kg per ha)']\n",
    "\n",
    "# Split data into train and test sets for production prediction\n",
    "X_train_prod, X_test_prod, y_train_prod, y_test_prod = train_test_split(X, y_production, test_size=0.2, random_state=42)\n",
    "\n",
    "# Split data into train and test sets for yield prediction\n",
    "X_train_yield, X_test_yield, y_train_yield, y_test_yield = train_test_split(X, y_yield, test_size=0.2, random_state=42)\n",
    "\n",
    "# Initialize the regression model\n",
    "model_production = RandomForestRegressor(random_state=42)\n",
    "model_yield = RandomForestRegressor(random_state=42)\n",
    "\n",
    "# Train the models\n",
    "model_production.fit(X_train_prod, y_train_prod)\n",
    "model_yield.fit(X_train_yield, y_train_yield)\n",
    "\n",
    "# Predict on the test set\n",
    "y_pred_prod = model_production.predict(X_test_prod)\n",
    "y_pred_yield = model_yield.predict(X_test_yield)\n",
    "\n",
    "# Calculate accuracy metrics for production prediction\n",
    "mae_prod = mean_absolute_error(y_test_prod, y_pred_prod)\n",
    "mse_prod = mean_squared_error(y_test_prod, y_pred_prod)\n",
    "r2_prod = r2_score(y_test_prod, y_pred_prod)\n",
    "\n",
    "# Calculate accuracy metrics for yield prediction\n",
    "mae_yield = mean_absolute_error(y_test_yield, y_pred_yield)\n",
    "mse_yield = mean_squared_error(y_test_yield, y_pred_yield)\n",
    "r2_yield = r2_score(y_test_yield, y_pred_yield)\n",
    "\n",
    "# Print results\n",
    "print(\"Production Prediction:\")\n",
    "print(f\"MAE: {mae_prod}\")\n",
    "print(f\"MSE: {mse_prod}\")\n",
    "print(f\"R-squared: {r2_prod}\")\n",
    "\n",
    "print(\"\\nYield Prediction:\")\n",
    "print(f\"MAE: {mae_yield}\")\n",
    "print(f\"MSE: {mse_yield}\")\n",
    "print(f\"R-squared: {r2_yield}\")\n",
    "# Define the year you want to predict for\n",
    "year_to_predict = 2017  # Replace with the desired year\n",
    "\n",
    "# Create a subset of the data for that year with unique crop-district combinations\n",
    "year_data = data[data['YEAR'] == year_to_predict][['CROP', 'DISTRICT']].drop_duplicates()\n",
    "year_data['YEAR'] = year_to_predict  # Add the year column\n",
    "\n",
    "# Reorder columns to match the order used in training: ['year', 'crop', 'district']\n",
    "year_data = year_data[['YEAR', 'CROP', 'DISTRICT']]\n",
    "\n",
    "# Encode the crop and district columns\n",
    "year_data['CROP'] = label_encoder_crop.transform(year_data['CROP'])\n",
    "year_data['DISTRICT'] = label_encoder_district.transform(year_data['DISTRICT'])\n",
    "\n",
    "# Predict production and yield for each crop-district in the specified year\n",
    "predicted_production = model_production.predict(year_data)\n",
    "predicted_yield = model_yield.predict(year_data)\n",
    "\n",
    "# Calculate total production and average yield for the specified year\n",
    "total_production = predicted_production.sum()\n",
    "average_yield = predicted_yield.mean()  # You can calculate the mean or sum based on your analysis need\n",
    "\n",
    "print(f\"Total Predicted Production for {year_to_predict}: {total_production}\")\n",
    "print(f\"Average Predicted Yield for {year_to_predict}: {average_yield}\")\n"
   ]
  },
  {
   "cell_type": "code",
   "execution_count": null,
   "id": "59443b82-3985-4761-8d97-e2ef6ae8d60f",
   "metadata": {},
   "outputs": [],
   "source": []
  }
 ],
 "metadata": {
  "kernelspec": {
   "display_name": "Python 3 (ipykernel)",
   "language": "python",
   "name": "python3"
  },
  "language_info": {
   "codemirror_mode": {
    "name": "ipython",
    "version": 3
   },
   "file_extension": ".py",
   "mimetype": "text/x-python",
   "name": "python",
   "nbconvert_exporter": "python",
   "pygments_lexer": "ipython3",
   "version": "3.11.5"
  }
 },
 "nbformat": 4,
 "nbformat_minor": 5
}
